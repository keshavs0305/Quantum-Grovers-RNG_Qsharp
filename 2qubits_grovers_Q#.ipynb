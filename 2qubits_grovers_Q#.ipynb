{
 "cells": [
  {
   "cell_type": "markdown",
   "id": "f02e4a33",
   "metadata": {},
   "source": [
    "# Grover's Search for two qubits in Q#"
   ]
  },
  {
   "cell_type": "markdown",
   "id": "469fd568",
   "metadata": {},
   "source": [
    "## Task 1: Alice's Task"
   ]
  },
  {
   "cell_type": "markdown",
   "id": "5a33deb2",
   "metadata": {},
   "source": [
    "**Input**: Array of 2 qubits: qbits, and the number to search for: needle\n",
    "\n",
    "**Goal**: \n",
    "\n",
    "Given a set of qubits and a number from the set [0, 1, 2, 3], Alice's task is to encode this number as a Phase Oracle.\n",
    "\n",
    "$$0 \\rightarrow 00$$\n",
    "$$1 \\rightarrow 01$$\n",
    "$$2 \\rightarrow 10$$\n",
    "$$3 \\rightarrow 11$$"
   ]
  },
  {
   "cell_type": "code",
   "execution_count": 350,
   "id": "056983c9",
   "metadata": {},
   "outputs": [
    {
     "data": {
      "application/json": "[\"Oracle\"]",
      "text/html": [
       "<ul><li>Oracle</li></ul>"
      ],
      "text/plain": [
       "Oracle"
      ]
     },
     "execution_count": 350,
     "metadata": {},
     "output_type": "execute_result"
    }
   ],
   "source": [
    "open Microsoft.Quantum.Arrays;\n",
    "open Microsoft.Quantum.Intrinsic;\n",
    "open Microsoft.Quantum.Canon;\n",
    "open Microsoft.Quantum.Math;\n",
    "\n",
    "operation Oracle(qbits: Qubit[], needle: Int) : Unit {\n",
    "    //Your code here\n",
    "    if needle == 0 { //for number 0, Oracle is defined by controlled Z gate and X gates on all qubits\n",
    "        Controlled Z(Most(qbits),Tail(qbits));//Most(all qubits except last one) == control and Tail(last qubit) == target\n",
    "        ApplyToEachA(X, qbits);\n",
    "    }\n",
    "    elif needle == 1 {//for number 0, Oracle is defined by controlled Z gate and X gates on first qubit\n",
    "        Controlled Z(Most(qbits),Tail(qbits));\n",
    "        X(qbits[0]);\n",
    "    }\n",
    "    elif needle == 2 {//for number 0, Oracle is defined by controlled Z gate and X gates on second qubit\n",
    "        Controlled Z(Most(qbits),Tail(qbits));\n",
    "        X(qbits[1]);\n",
    "    }\n",
    "    elif needle == 3 {//for number 0, Oracle is defined by just only controlled Z\n",
    "        Controlled Z(Most(qbits),Tail(qbits));\n",
    "    }\n",
    "}"
   ]
  },
  {
   "cell_type": "markdown",
   "id": "74797353",
   "metadata": {},
   "source": [
    "## Task 2: Walsh-Hadamard Transform"
   ]
  },
  {
   "cell_type": "markdown",
   "id": "6e85ff13",
   "metadata": {},
   "source": [
    "Use the Walsh Hadamard transform defined in Assignment 3. \n",
    "\n",
    "**Input**: An array of qubits qbits and the number of qubits n (which will always be 2 in our case)\n",
    "\n",
    "**Goal**:  A state in equal superposition"
   ]
  },
  {
   "cell_type": "code",
   "execution_count": 275,
   "id": "2d064278",
   "metadata": {},
   "outputs": [
    {
     "data": {
      "application/json": "[\"WalshHadamardTransform\"]",
      "text/html": [
       "<ul><li>WalshHadamardTransform</li></ul>"
      ],
      "text/plain": [
       "WalshHadamardTransform"
      ]
     },
     "execution_count": 275,
     "metadata": {},
     "output_type": "execute_result"
    }
   ],
   "source": [
    "open Microsoft.Quantum.Diagnostics;\n",
    "operation WalshHadamardTransform(qbits: Qubit[], n: Int): Unit is Adj {\n",
    "    //Your code here\n",
    "    ApplyToEachA(H, qbits); // adding H gate to all qubits\n",
    "}"
   ]
  },
  {
   "cell_type": "markdown",
   "id": "0aa29b4e",
   "metadata": {},
   "source": [
    "## Task 3: Reflection\n",
    "**Input**: An array of qubits\n",
    "\n",
    "**Goal**: Apply the diffusion operator $D = H^{\\otimes 2} U_s H^{\\otimes 2} $, where $U_s = 2|00\\rangle\\langle 00| - I^{\\otimes 2}$"
   ]
  },
  {
   "cell_type": "code",
   "execution_count": 281,
   "id": "5ce3b4f1",
   "metadata": {},
   "outputs": [
    {
     "data": {
      "application/json": "[\"Reflection\"]",
      "text/html": [
       "<ul><li>Reflection</li></ul>"
      ],
      "text/plain": [
       "Reflection"
      ]
     },
     "execution_count": 281,
     "metadata": {},
     "output_type": "execute_result"
    }
   ],
   "source": [
    "operation Reflection(qbits: Qubit[]) : Unit {\n",
    "    //Your code here\n",
    "    within {//We define diffusion here as, H to all qubits, X to all qubits, then CZ gate, then XH to all qubits\n",
    "        ApplyToEachA(H, qbits);\n",
    "        ApplyToEachA(X, qbits);\n",
    "    } apply {\n",
    "        Controlled Z(Most(qbits), Tail(qbits));\n",
    "    }\n",
    "}"
   ]
  },
  {
   "cell_type": "markdown",
   "id": "eef96da0",
   "metadata": {},
   "source": [
    "## Task 4: Grover's Search\n",
    "Goal: Use the functions described above to run the full Grover circuit for 2 qubits."
   ]
  },
  {
   "cell_type": "code",
   "execution_count": 356,
   "id": "8a97e70b",
   "metadata": {},
   "outputs": [
    {
     "data": {
      "application/json": "[\"Grover\"]",
      "text/html": [
       "<ul><li>Grover</li></ul>"
      ],
      "text/plain": [
       "Grover"
      ]
     },
     "execution_count": 356,
     "metadata": {},
     "output_type": "execute_result"
    }
   ],
   "source": [
    "open Microsoft.Quantum.Measurement;\n",
    "open Microsoft.Quantum.Diagnostics;\n",
    "operation Grover(): (Result, Result) {\n",
    "    //Your code here\n",
    "    use q = Qubit[2]; //define qubits first (2 in this case)\n",
    "    WalshHadamardTransform(q,2); // apply H gates to all qubits\n",
    "    Oracle(q,0); // step 2 is to apply Oracle function\n",
    "    // check the second argument of Oracle function, it should be number which we want\n",
    "    // so if you change that number you will se appropriate rusults of 'simulate Grover' command\n",
    "    Reflection(q); // step 3 is to apply Reflection\n",
    "    // Since num_qubits=2 only 1 inversion is enough \n",
    "    // so now we just measure results\n",
    "    let r1 = M(q[0]);\n",
    "    let r2 = M(q[1]);\n",
    "    return (r1, r2);\n",
    "}"
   ]
  },
  {
   "cell_type": "code",
   "execution_count": 357,
   "id": "c8fae9d6",
   "metadata": {},
   "outputs": [
    {
     "data": {
      "application/json": "{\"@type\":\"@tuple\",\"Item1\":0,\"Item2\":0}",
      "text/plain": [
       "(Zero, Zero)"
      ]
     },
     "execution_count": 357,
     "metadata": {},
     "output_type": "execute_result"
    }
   ],
   "source": [
    "%simulate Grover"
   ]
  },
  {
   "cell_type": "code",
   "execution_count": 330,
   "id": "b9c83859",
   "metadata": {},
   "outputs": [
    {
     "data": {
      "application/json": "{\"Html\":\"<div id='execution-path-container-3704769b-948b-4c1d-9b5e-7c3501ca8bf3' />\"}",
      "text/html": [
       "<div id='execution-path-container-3704769b-948b-4c1d-9b5e-7c3501ca8bf3' />"
      ],
      "text/plain": [
       "Microsoft.Quantum.IQSharp.Jupyter.DisplayableHtmlElement"
      ]
     },
     "metadata": {},
     "output_type": "display_data"
    }
   ],
   "source": [
    "%trace Grover"
   ]
  },
  {
   "cell_type": "code",
   "execution_count": null,
   "id": "e6f5d1a0",
   "metadata": {},
   "outputs": [],
   "source": []
  }
 ],
 "metadata": {
  "kernelspec": {
   "display_name": "Q#",
   "language": "qsharp",
   "name": "iqsharp"
  },
  "language_info": {
   "file_extension": ".qs",
   "mimetype": "text/x-qsharp",
   "name": "qsharp",
   "version": "0.14"
  }
 },
 "nbformat": 4,
 "nbformat_minor": 5
}
